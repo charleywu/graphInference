{
 "cells": [
  {
   "cell_type": "code",
   "execution_count": 1,
   "metadata": {
    "ExecuteTime": {
     "end_time": "2020-08-17T19:30:38.341757Z",
     "start_time": "2020-08-17T19:30:37.212355Z"
    }
   },
   "outputs": [],
   "source": [
    "import matplotlib.pyplot as plt\n",
    "import numpy as np\n",
    "import pandas as pd \n",
    "\n",
    "from bms import GroupBMC #https://github.com/cpilab/group-bayesian-model-comparison"
   ]
  },
  {
   "cell_type": "code",
   "execution_count": 2,
   "metadata": {
    "ExecuteTime": {
     "end_time": "2020-08-17T19:30:38.349709Z",
     "start_time": "2020-08-17T19:30:38.342947Z"
    }
   },
   "outputs": [],
   "source": [
    "#Load data from Experiment 1\n",
    "m1 = -pd.read_csv('modelResults/Exp1diffevidence.csv', sep=',',  header=None).to_numpy().T #make negative (i.e., negative log likelihoods) and transpose\n",
    "#Load data from Experiment 2\n",
    "m2 =  -pd.read_csv('modelResults/Exp2diffevidence.csv', sep=',',  header=None).to_numpy().T"
   ]
  },
  {
   "cell_type": "code",
   "execution_count": 3,
   "metadata": {
    "ExecuteTime": {
     "end_time": "2020-08-17T19:30:38.364624Z",
     "start_time": "2020-08-17T19:30:38.351511Z"
    }
   },
   "outputs": [],
   "source": [
    "#Experiment 1\n",
    "result1 = GroupBMC(m1).get_result().protected_exceedance_probability\n",
    "result1 =  result1.reshape(1, result1.shape[0]) #reshape from column vector to row vector\n",
    "#Save\n",
    "np.savetxt('modelResults/Exp1PXP.csv', result1, delimiter=',')"
   ]
  },
  {
   "cell_type": "code",
   "execution_count": 4,
   "metadata": {
    "ExecuteTime": {
     "end_time": "2020-08-17T19:30:38.385096Z",
     "start_time": "2020-08-17T19:30:38.366160Z"
    }
   },
   "outputs": [],
   "source": [
    "#Experiment 2\n",
    "result2 = GroupBMC(m2).get_result().protected_exceedance_probability\n",
    "result2 = result2.reshape(1, result2.shape[0]) #reshape from column vector to row vector\n",
    "#save\n",
    "np.savetxt('modelResults/Exp2PXP.csv', result2, delimiter=',')"
   ]
  },
  {
   "cell_type": "code",
   "execution_count": null,
   "metadata": {},
   "outputs": [],
   "source": []
  }
 ],
 "metadata": {
  "kernelspec": {
   "display_name": "Python 3",
   "language": "python",
   "name": "python3"
  },
  "language_info": {
   "codemirror_mode": {
    "name": "ipython",
    "version": 3
   },
   "file_extension": ".py",
   "mimetype": "text/x-python",
   "name": "python",
   "nbconvert_exporter": "python",
   "pygments_lexer": "ipython3",
   "version": "3.7.4"
  },
  "toc": {
   "base_numbering": 1,
   "nav_menu": {},
   "number_sections": true,
   "sideBar": true,
   "skip_h1_title": false,
   "title_cell": "Table of Contents",
   "title_sidebar": "Contents",
   "toc_cell": false,
   "toc_position": {},
   "toc_section_display": true,
   "toc_window_display": false
  }
 },
 "nbformat": 4,
 "nbformat_minor": 2
}
